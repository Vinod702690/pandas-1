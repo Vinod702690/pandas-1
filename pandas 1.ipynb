{
 "cells": [
  {
   "cell_type": "code",
   "execution_count": null,
   "id": "b2519a2a-002a-4039-b5b1-a7d4e26a5a2c",
   "metadata": {},
   "outputs": [],
   "source": [
    "Pandas Read JSON"
   ]
  },
  {
   "cell_type": "code",
   "execution_count": 2,
   "id": "d44e0bd1-d7e4-4cb7-986f-564f8bd3906f",
   "metadata": {},
   "outputs": [
    {
     "name": "stdout",
     "output_type": "stream",
     "text": [
      "   Duration  Pulse  Maxpulse  Calories\n",
      "0        60    110       130       409\n",
      "1        60    117       145       479\n",
      "2        60    103       135       340\n",
      "3        45    109       175       282\n",
      "4        45    117       148       406\n",
      "5        60    102       127       300\n"
     ]
    }
   ],
   "source": [
    "import pandas as pd\n",
    "\n",
    "data = {\n",
    "  \"Duration\":{\n",
    "    \"0\":60,\n",
    "    \"1\":60,\n",
    "    \"2\":60,\n",
    "    \"3\":45,\n",
    "    \"4\":45,\n",
    "    \"5\":60\n",
    "  },\n",
    "  \"Pulse\":{\n",
    "    \"0\":110,\n",
    "    \"1\":117,\n",
    "    \"2\":103,\n",
    "    \"3\":109,\n",
    "    \"4\":117,\n",
    "    \"5\":102\n",
    "  },\n",
    "  \"Maxpulse\":{\n",
    "    \"0\":130,\n",
    "    \"1\":145,\n",
    "    \"2\":135,\n",
    "    \"3\":175,\n",
    "    \"4\":148,\n",
    "    \"5\":127\n",
    "  },\n",
    "  \"Calories\":{\n",
    "    \"0\":409,\n",
    "    \"1\":479,\n",
    "    \"2\":340,\n",
    "    \"3\":282,\n",
    "    \"4\":406,\n",
    "    \"5\":300\n",
    "  }\n",
    "}\n",
    "\n",
    "df = pd.DataFrame(data)\n",
    "\n",
    "print(df) "
   ]
  },
  {
   "cell_type": "code",
   "execution_count": null,
   "id": "9847f1ba-7871-4e6a-9b38-d448b79c9554",
   "metadata": {},
   "outputs": [],
   "source": [
    "Viewing the Data"
   ]
  },
  {
   "cell_type": "code",
   "execution_count": 4,
   "id": "f7c4a201-f042-4259-ba4f-e9c93b44a17a",
   "metadata": {},
   "outputs": [
    {
     "name": "stdout",
     "output_type": "stream",
     "text": [
      "   Duration  Pulse  Maxpulse  Calories\n",
      "1        60    117       145       479\n",
      "2        60    103       135       340\n",
      "3        45    109       175       282\n",
      "4        45    117       148       406\n",
      "5        60    102       127       300\n"
     ]
    }
   ],
   "source": [
    "print(df.tail())"
   ]
  },
  {
   "cell_type": "code",
   "execution_count": 5,
   "id": "23cd90d5-c846-4642-bd01-cd0e67f96796",
   "metadata": {},
   "outputs": [
    {
     "name": "stdout",
     "output_type": "stream",
     "text": [
      "<class 'pandas.core.frame.DataFrame'>\n",
      "Index: 6 entries, 0 to 5\n",
      "Data columns (total 4 columns):\n",
      " #   Column    Non-Null Count  Dtype\n",
      "---  ------    --------------  -----\n",
      " 0   Duration  6 non-null      int64\n",
      " 1   Pulse     6 non-null      int64\n",
      " 2   Maxpulse  6 non-null      int64\n",
      " 3   Calories  6 non-null      int64\n",
      "dtypes: int64(4)\n",
      "memory usage: 240.0+ bytes\n",
      "None\n"
     ]
    }
   ],
   "source": [
    "print(df.info()) "
   ]
  },
  {
   "cell_type": "code",
   "execution_count": null,
   "id": "1fc65f72-7eb9-4d80-8d24-41b4b8591436",
   "metadata": {},
   "outputs": [],
   "source": [
    "Viewing the Data"
   ]
  },
  {
   "cell_type": "code",
   "execution_count": 10,
   "id": "44e3eaba-1bf7-4896-b6d2-2461fc4cc129",
   "metadata": {},
   "outputs": [
    {
     "name": "stdout",
     "output_type": "stream",
     "text": [
      "   Duration  Pulse  Maxpulse  Calories\n",
      "1        60    117       145       479\n",
      "2        60    103       135       340\n",
      "3        45    109       175       282\n",
      "4        45    117       148       406\n",
      "5        60    102       127       300\n"
     ]
    }
   ],
   "source": [
    "print(df.tail())"
   ]
  },
  {
   "cell_type": "code",
   "execution_count": null,
   "id": "c6c28a5c-eff7-4acb-b701-738eced11c7b",
   "metadata": {},
   "outputs": [],
   "source": [
    "Pandas - Cleaning Data of Wrong Format"
   ]
  },
  {
   "cell_type": "code",
   "execution_count": 16,
   "id": "f02aeda0-cb28-4bf9-9212-1867e489327f",
   "metadata": {},
   "outputs": [],
   "source": [
    "df.loc[7, 'Duration'] = 45"
   ]
  },
  {
   "cell_type": "code",
   "execution_count": 17,
   "id": "c15ec57c-30ef-4607-b486-7267ef125fab",
   "metadata": {},
   "outputs": [],
   "source": [
    "for x in df.index:\n",
    "  if df.loc[x, \"Duration\"] > 120:\n",
    "    df.loc[x, \"Duration\"] = 120\n"
   ]
  },
  {
   "cell_type": "code",
   "execution_count": 18,
   "id": "f258349d-9617-4254-9182-dfd80adcf4ff",
   "metadata": {},
   "outputs": [
    {
     "name": "stdout",
     "output_type": "stream",
     "text": [
      "0    False\n",
      "1    False\n",
      "2    False\n",
      "3    False\n",
      "4    False\n",
      "5    False\n",
      "7    False\n",
      "dtype: bool\n"
     ]
    }
   ],
   "source": [
    "print(df.duplicated())"
   ]
  },
  {
   "cell_type": "code",
   "execution_count": 19,
   "id": "40e40e95-2978-4d19-a570-8d91a3086ddf",
   "metadata": {},
   "outputs": [],
   "source": [
    "df.drop_duplicates(inplace = True)"
   ]
  },
  {
   "cell_type": "code",
   "execution_count": null,
   "id": "db1a2360-b60d-47c3-adc9-44e76e6dcd33",
   "metadata": {},
   "outputs": [],
   "source": [
    "Pandas - Data Correlations"
   ]
  },
  {
   "cell_type": "code",
   "execution_count": 24,
   "id": "7e56c8bc-03c6-4f49-b5da-541adeb099ff",
   "metadata": {},
   "outputs": [
    {
     "data": {
      "text/html": [
       "<div>\n",
       "<style scoped>\n",
       "    .dataframe tbody tr th:only-of-type {\n",
       "        vertical-align: middle;\n",
       "    }\n",
       "\n",
       "    .dataframe tbody tr th {\n",
       "        vertical-align: top;\n",
       "    }\n",
       "\n",
       "    .dataframe thead th {\n",
       "        text-align: right;\n",
       "    }\n",
       "</style>\n",
       "<table border=\"1\" class=\"dataframe\">\n",
       "  <thead>\n",
       "    <tr style=\"text-align: right;\">\n",
       "      <th></th>\n",
       "      <th>Duration</th>\n",
       "      <th>Pulse</th>\n",
       "      <th>Maxpulse</th>\n",
       "      <th>Calories</th>\n",
       "    </tr>\n",
       "  </thead>\n",
       "  <tbody>\n",
       "    <tr>\n",
       "      <th>Duration</th>\n",
       "      <td>1.000000</td>\n",
       "      <td>-0.397151</td>\n",
       "      <td>-0.801471</td>\n",
       "      <td>0.261111</td>\n",
       "    </tr>\n",
       "    <tr>\n",
       "      <th>Pulse</th>\n",
       "      <td>-0.397151</td>\n",
       "      <td>1.000000</td>\n",
       "      <td>0.353347</td>\n",
       "      <td>0.766156</td>\n",
       "    </tr>\n",
       "    <tr>\n",
       "      <th>Maxpulse</th>\n",
       "      <td>-0.801471</td>\n",
       "      <td>0.353347</td>\n",
       "      <td>1.000000</td>\n",
       "      <td>-0.237011</td>\n",
       "    </tr>\n",
       "    <tr>\n",
       "      <th>Calories</th>\n",
       "      <td>0.261111</td>\n",
       "      <td>0.766156</td>\n",
       "      <td>-0.237011</td>\n",
       "      <td>1.000000</td>\n",
       "    </tr>\n",
       "  </tbody>\n",
       "</table>\n",
       "</div>"
      ],
      "text/plain": [
       "          Duration     Pulse  Maxpulse  Calories\n",
       "Duration  1.000000 -0.397151 -0.801471  0.261111\n",
       "Pulse    -0.397151  1.000000  0.353347  0.766156\n",
       "Maxpulse -0.801471  0.353347  1.000000 -0.237011\n",
       "Calories  0.261111  0.766156 -0.237011  1.000000"
      ]
     },
     "execution_count": 24,
     "metadata": {},
     "output_type": "execute_result"
    }
   ],
   "source": [
    "df.corr()"
   ]
  },
  {
   "cell_type": "code",
   "execution_count": null,
   "id": "144b7f4f-6dce-4016-8705-b2c0fe7ce641",
   "metadata": {},
   "outputs": [],
   "source": []
  }
 ],
 "metadata": {
  "kernelspec": {
   "display_name": "Python 3 (ipykernel)",
   "language": "python",
   "name": "python3"
  },
  "language_info": {
   "codemirror_mode": {
    "name": "ipython",
    "version": 3
   },
   "file_extension": ".py",
   "mimetype": "text/x-python",
   "name": "python",
   "nbconvert_exporter": "python",
   "pygments_lexer": "ipython3",
   "version": "3.12.3"
  }
 },
 "nbformat": 4,
 "nbformat_minor": 5
}
